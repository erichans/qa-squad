{
 "cells": [
  {
   "cell_type": "code",
   "execution_count": 1,
   "id": "8c20eefa-97da-4d75-bb18-c41fcf472a2c",
   "metadata": {},
   "outputs": [],
   "source": [
    "from transformers import BertForQuestionAnswering, BertTokenizerFast, pipeline"
   ]
  },
  {
   "cell_type": "code",
   "execution_count": 2,
   "id": "efcba8d1-5473-4747-8bf3-5d438e5e5462",
   "metadata": {},
   "outputs": [],
   "source": [
    "tokenizer = BertTokenizerFast.from_pretrained(f'neuralmind/bert-base-portuguese-cased', local_files_only=True)"
   ]
  },
  {
   "cell_type": "code",
   "execution_count": 3,
   "id": "9b5a7939-cb87-4786-a79c-828697e44424",
   "metadata": {},
   "outputs": [],
   "source": [
    "model_base = BertForQuestionAnswering.from_pretrained('C:/projetos/question-answering-squad-pt-br/results/2_epochs_base_qa/best-model-checkpoint-10970')\n",
    "model_large = BertForQuestionAnswering.from_pretrained('C:/projetos/question-answering-squad-pt-br/results/2_epochs_large_qa/best_model_checkpoint-21940')"
   ]
  },
  {
   "cell_type": "code",
   "execution_count": 4,
   "id": "5600cd2b-3172-47e9-b2aa-2e4ac0a21c4f",
   "metadata": {},
   "outputs": [],
   "source": [
    "question_answerer_base = pipeline(\"question-answering\", model=model_base, tokenizer=tokenizer)\n",
    "question_answerer_large = pipeline(\"question-answering\", model=model_large, tokenizer=tokenizer)"
   ]
  },
  {
   "cell_type": "code",
   "execution_count": 12,
   "id": "2b5c83ef-22a9-4c6a-849a-52335c933cde",
   "metadata": {},
   "outputs": [],
   "source": [
    "questions = [\"Qual o nome do advogado?\",\n",
    "             \"Quem entrou em contato com o advogado?\",\n",
    "                 \"Qual a condenação?\",\n",
    "                 \"Qual o valor da condenação?\",\n",
    "                 \"A quem será paga a indenização?\",\n",
    "                 \"Qual o prazo para tirar o conteúdo ofensivo das redes sociais?\",\n",
    "                 \"Qual o valor da multa se não tirar os vídeos?\",\n",
    "                 \"Quem estava a frente do Batalhão de Polícia Militar?\",\n",
    "                 \"Qual ordem foi dada pelo comandante do batalhão?\",\n",
    "                 \"Por que os vídeos ainda não foram retirados das redes sociais?\",\n",
    "                 \"Ainda cabe recurso da decisão?\"]"
   ]
  },
  {
   "cell_type": "code",
   "execution_count": 15,
   "id": "6eccb576-f8cc-4117-ab69-14bdb845cb48",
   "metadata": {},
   "outputs": [],
   "source": [
    "context = r\"\"\"\n",
    "        O advogado Marcos Rogério Manteiga foi condenado a pagar indenização por danos morais no valor de R$ 10 mil \n",
    "    para a ex-comandante da Polícia Militar em Marília, Márcia Cristina Cristal Gomes.\n",
    "        Na decisão, a Justiça ainda determinou que ele retire os vídeos publicados no Youtube e Facebook, no prazo de \n",
    "    cinco dias, contados do trânsito em julgado, sob pena de multa diária de R$ 500.\n",
    "        Manteiga é advogado de defesa do sargento Alan Fabrício Ferreira, no caso da carteirada que ocorreu em agosto \n",
    "    do ano passado, quando a vereadora Professora Daniela ligou para a comandante após sua filha ter o veículo \n",
    "    apreendido em uma blitz na tentativa de evitar a apreensão. \n",
    "        Márcia Cristal, que na época comandava o policiamento do 9º Batalhão de Polícia Militar do interior da cidade, \n",
    "    ligou para o sargento e deu ordens para que o carro não fosse apreendido. O caso ganhou grande repercussão após o \n",
    "    advogado divulgar os áudios da conversa em que a comandante repreendia o sargento. \n",
    "        De acordo com a decisão da Justiça, \"ainda que a autora (Márcia Cristal) tenha praticado conduta incompatível \n",
    "    em detrimento de cliente do requerido, tudo a ser apurado junto aos órgãos e instâncias competentes, tal fato não \n",
    "    pode ser usado, ainda mais em redes sociais com o acesso de várias pessoas ao conteúdo, como argumento para \n",
    "    declarações desrespeitosas e ofensivas, o que de fato foi feito pela parte requerida, o qual, repita-se, nem \n",
    "    mesmo alega que os vídeos e publicações indicados na peça inaugural por ele não foi publicado nas respectivas \n",
    "    plataformas\".\n",
    "        Isto é, apesar da conduta da ex-comandante, a sua exposição nas redes sociais gera declarações desrespeitosas e \n",
    "    ofensivas devido ao extenso número de pessoas alcançado pelas redes sociais.\n",
    "        A TV TEM entrou em contato com Manteiga e ele afirmou que vai recorrer da decisão. O advogado ainda não retirou \n",
    "    os vídeos das plataformas, pois o caso ainda não transitou em julgado.\n",
    "    \"\"\""
   ]
  },
  {
   "cell_type": "code",
   "execution_count": 16,
   "id": "735ffe7e-764a-48d9-836a-ecc077b7aa20",
   "metadata": {},
   "outputs": [
    {
     "name": "stdout",
     "output_type": "stream",
     "text": [
      "Pergunta: 'Qual o nome do advogado?'\n",
      "Resposta: 'Marcos Rogério Manteiga'\n",
      "\tscore: 0.9917, start: 20, end: 43\n",
      "Pergunta: 'Quem entrou em contato com o advogado?'\n",
      "Resposta: 'TV TEM'\n",
      "\tscore: 0.8392, start: 1842, end: 1848\n",
      "Pergunta: 'Qual a condenação?'\n",
      "Resposta: 'indenização por danos morais no valor de R$ 10 mil'\n",
      "\tscore: 0.2695, start: 66, end: 116\n",
      "Pergunta: 'Qual o valor da condenação?'\n",
      "Resposta: 'R$ 10 mil'\n",
      "\tscore: 0.9329, start: 107, end: 116\n",
      "Pergunta: 'A quem será paga a indenização?'\n",
      "Resposta: 'Márcia Cristina Cristal Gomes'\n",
      "\tscore: 0.8416, start: 174, end: 203\n",
      "Pergunta: 'Qual o prazo para tirar o conteúdo ofensivo das redes sociais?'\n",
      "Resposta: 'cinco dias'\n",
      "\tscore: 0.6033, start: 328, end: 338\n",
      "Pergunta: 'Qual o valor da multa se não tirar os vídeos?'\n",
      "Resposta: '$ 500'\n",
      "\tscore: 0.4738, start: 402, end: 407\n",
      "Pergunta: 'Quem estava a frente do Batalhão de Polícia Militar?'\n",
      "Resposta: 'Márcia Cristina Cristal Gomes'\n",
      "\tscore: 0.6567, start: 174, end: 203\n",
      "Pergunta: 'Qual ordem foi dada pelo comandante do batalhão?'\n",
      "Resposta: 'o carro não fosse apreendido'\n",
      "\tscore: 0.5758, start: 873, end: 901\n",
      "Pergunta: 'Por que os vídeos ainda não foram retirados das redes sociais?'\n",
      "Resposta: 'o caso ainda não transitou em julgado'\n",
      "\tscore: 0.5323, start: 1989, end: 2026\n",
      "Pergunta: 'Ainda cabe recurso da decisão?'\n",
      "Resposta: 'o caso ainda não transitou em julgado.'\n",
      "\tscore: 0.083, start: 1989, end: 2027\n"
     ]
    }
   ],
   "source": [
    "for question in questions:\n",
    "    print(f\"Pergunta: '{question}'\")\n",
    "    result = question_answerer_large(question=question, context=context)\n",
    "    print(f\"Resposta: '{result['answer']}'\\n\\tscore: {round(result['score'], 4)}, start: {result['start']}, end: {result['end']}\")"
   ]
  },
  {
   "cell_type": "code",
   "execution_count": 14,
   "id": "1506bda7-8beb-4a23-9113-43c76a985dd8",
   "metadata": {},
   "outputs": [
    {
     "name": "stdout",
     "output_type": "stream",
     "text": [
      "Pergunta: 'Qual o nome do advogado?'\n",
      "Resposta: 'Marcos Rogério Manteiga'\n",
      "\tscore: 0.9701, start: 20, end: 43\n",
      "Pergunta: 'Quem entrou em contato com o advogado?'\n",
      "Resposta: 'TV TEM'\n",
      "\tscore: 0.7837, start: 1842, end: 1848\n",
      "Pergunta: 'Qual a condenação?'\n",
      "Resposta: 'multa diária de R$ 500'\n",
      "\tscore: 0.2523, start: 385, end: 407\n",
      "Pergunta: 'Qual o valor da condenação?'\n",
      "Resposta: 'R$ 10 mil'\n",
      "\tscore: 0.923, start: 107, end: 116\n",
      "Pergunta: 'A quem será paga a indenização?'\n",
      "Resposta: 'Márcia Cristina Cristal Gomes'\n",
      "\tscore: 0.6417, start: 174, end: 203\n",
      "Pergunta: 'Qual o prazo para tirar o conteúdo ofensivo das redes sociais?'\n",
      "Resposta: 'cinco dias'\n",
      "\tscore: 0.9293, start: 328, end: 338\n",
      "Pergunta: 'Qual o valor da multa se não tirar os vídeos?'\n",
      "Resposta: 'R$ 500'\n",
      "\tscore: 0.8238, start: 401, end: 407\n",
      "Pergunta: 'Quem estava a frente do Batalhão de Polícia Militar?'\n",
      "Resposta: 'Márcia Cristal'\n",
      "\tscore: 0.4729, start: 713, end: 727\n",
      "Pergunta: 'Qual ordem foi dada pelo comandante do batalhão?'\n",
      "Resposta: 'o carro não fosse apreendido'\n",
      "\tscore: 0.4496, start: 873, end: 901\n",
      "Pergunta: 'Por que os vídeos ainda não foram retirados das redes sociais?'\n",
      "Resposta: 'o caso ainda não transitou em julgado'\n",
      "\tscore: 0.498, start: 1989, end: 2026\n",
      "Pergunta: 'Ainda cabe recurso da decisão?'\n",
      "Resposta: 'o caso ainda não transitou em julgado'\n",
      "\tscore: 0.1781, start: 1989, end: 2026\n"
     ]
    }
   ],
   "source": [
    "for question in questions:\n",
    "    print(f\"Pergunta: '{question}'\")\n",
    "    result = question_answerer_base(question=question, context=context)\n",
    "    print(\n",
    "        f\"Resposta: '{result['answer']}'\\n\\tscore: {round(result['score'], 4)}, start: {result['start']}, end: {result['end']}\")"
   ]
  },
  {
   "cell_type": "code",
   "execution_count": 15,
   "id": "79fb8597-53fc-41d2-8c34-24118f7a103e",
   "metadata": {},
   "outputs": [],
   "source": [
    "context = r\"\"\"\n",
    "Com uma estratégia bem elaborada para tomar decisões, é possível ter mais confiança. Se a empresa for sólida, com tendência de crescimento, não há momento ideal. A hora certa é o momento \n",
    "em que você está pronto para explorar esse mercado.\n",
    "Como você pode perceber, não existe um momento certo para investir na bolsa de valores. Na verdade, é preciso avaliar seu perfil e objetivos, estudar o mercado e definir estratégias. \n",
    "Assim, é possível aumentar o potencial de retorno e tomar decisões mais seguras a qualquer hora!\n",
    "Você acredita que está na hora de investir em ações? Entre em contato conosco e conte com uma assessoria de investimento para conhecer as alternativas do mercado!\n",
    "    \"\"\""
   ]
  },
  {
   "cell_type": "code",
   "execution_count": 16,
   "id": "757a8af5-1de7-42cf-9e48-9dabb999ba8c",
   "metadata": {},
   "outputs": [],
   "source": [
    "questions = [\"Está na hora de investir na bolsa?\", \"Como posso ter mais confiança para investir na bolsa?\", \"O que é preciso para aumentar o potencial de retorno na bolsa?\", \n",
    "             \"Eu acredito que está na hora de investir! O que faço?\"]"
   ]
  },
  {
   "cell_type": "code",
   "execution_count": 17,
   "id": "6185b7ba-b7ef-4027-9590-a90f5a9e42b8",
   "metadata": {},
   "outputs": [
    {
     "name": "stdout",
     "output_type": "stream",
     "text": [
      "Pergunta: 'Quais foram as condenações?'\n",
      "Resposta: 'Condeno João a 6 meses de prisão'\n"
     ]
    }
   ],
   "source": [
    "for question in questions:\n",
    "    print(f\"Pergunta: '{question}'\")\n",
    "    result = question_answerer_large(question=question, context=context)\n",
    "    print(\n",
    "        f\"Resposta: '{result['answer']}'\")"
   ]
  }
 ],
 "metadata": {
  "kernelspec": {
   "display_name": "Python 3 (ipykernel)",
   "language": "python",
   "name": "python3"
  },
  "language_info": {
   "codemirror_mode": {
    "name": "ipython",
    "version": 3
   },
   "file_extension": ".py",
   "mimetype": "text/x-python",
   "name": "python",
   "nbconvert_exporter": "python",
   "pygments_lexer": "ipython3",
   "version": "3.9.6"
  }
 },
 "nbformat": 4,
 "nbformat_minor": 5
}
